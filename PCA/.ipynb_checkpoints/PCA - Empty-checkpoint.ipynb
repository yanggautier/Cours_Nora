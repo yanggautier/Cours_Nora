{
 "cells": [
  {
   "cell_type": "markdown",
   "metadata": {},
   "source": [
    "# Analyse en composantes principales (PCA)"
   ]
  },
  {
   "cell_type": "markdown",
   "metadata": {},
   "source": [
    "L'objectif de ce notebook est d'étudier l'une des méthodes de Machine Learning en **apprentissage non supervisé** : **l'analyse en composantes principales - ACP - ou PCA en anglais)**. \n",
    "\n",
    "Afin de bien **comprendre les notions sous-jacentes à cette méthode**, nous avez regardé la vidéo suivante : https://www.youtube.com/watch?v=8qw0bNfK4H0\n",
    "\n",
    "Après avoir défini les concepts de base sur lesquels repose la PCA,nous allons appliquer cette méthode à un jeu de données réelles puis interpréter les résultats en sortie."
   ]
  },
  {
   "cell_type": "markdown",
   "metadata": {},
   "source": [
    "## 1. Définitions\n",
    "\n",
    "(Durée moyenne : 30 min)\n",
    "\n"
   ]
  },
  {
   "cell_type": "markdown",
   "metadata": {},
   "source": [
    "1. Définir une méthode d'analyse factorielle"
   ]
  },
  {
   "cell_type": "markdown",
   "metadata": {},
   "source": [
    "L'analyse factorielle est un terme qui désigne aujourd'hui plusieurs méthodes d'analyses de grands tableaux rectangulaires de données, visant à déterminer et à hiérarchiser des facteurs corrélés aux données placées en colonnes"
   ]
  },
  {
   "cell_type": "markdown",
   "metadata": {},
   "source": [
    "2. Définir une PCA. Sur quel type de données peut-elle être appliquée? Citer des exemples d'utilisation de la PCA"
   ]
  },
  {
   "cell_type": "markdown",
   "metadata": {},
   "source": [
    "L'analyse factorielle est de trouver les variables indépendantes soujacentes aux variables observées et donc de trouver une combinaison linéaire entre toutes les variables observées, donc les coefficients sont des variables indépendantes.\n",
    "\n",
    "PCA est une méthode de l'analyse factorielle, qui est la projection des points des variables observées sur des composantes princpales qui va nous permettre de réduire les dimensions et donc de mieux interpréter les données\n",
    "\n",
    "Factoriel : combinaison de facteurs initials, donc de trouver des nouveaux composants(nouvelles variables) qui sont une combinaison de variables initialles, donc un résumé de variables initiales.\n",
    "\n",
    "\n",
    "Au début on a une dimension p très grand, on passe  une dimension plus faible, les axes sont des combinaisons des facteurs initials, donc de taille réduite.\n"
   ]
  },
  {
   "cell_type": "markdown",
   "metadata": {},
   "source": [
    "3. Quelle est la matrice en entrée de l'ACP? Quelle(s) transformation(s) peuvent être appliquées à cette matrice? Justifier"
   ]
  },
  {
   "cell_type": "markdown",
   "metadata": {},
   "source": [
    "PCA prend en entrée une matrice de donnée quantive et dimension n  et on applique une transformation linéaire pour réduire à une dimension k où k est plus petit que n.\n",
    "\n",
    "Projection des points de variables observées\n",
    "\n",
    "Transformation de réduction de la moyenne, on centre par rapport à la moyenne  et on va réduire nos données par rapport à l'écart-type. On trvaille sur des données standarisées ou normalisées.\n"
   ]
  },
  {
   "cell_type": "markdown",
   "metadata": {},
   "source": [
    "4. Quelle décomposition (ou factorisation) matricielle est utilisée pour l'ACP? Définir l'inertie. Que vaut l'inertie totale lorsque les variables sont centrées et réduites (on parle d'ACP normée)? "
   ]
  },
  {
   "cell_type": "markdown",
   "metadata": {},
   "source": [
    "- Manière 1\n",
    "Utiliser la valeur singulière, de cette matrice centre réduite, donc la matrice diagonale au millieu  va constituer tout sa diagonale va être constituer des valeurs propres, plus précisement la racine carrée des valeurs propres, ces valeur propres c'est ce  qui va matérialise par la notion d'inertie.\n",
    "\n",
    "- Manière 2\n",
    "Diagonaliser la matrice de variance co-variance toujours cette matrice centre réduite.\n",
    "\n",
    "**L'inertie**: la variance des variables, co-variance"
   ]
  },
  {
   "cell_type": "markdown",
   "metadata": {},
   "source": [
    "5. Définir une composante principale. Quelles sont ses propriétés?"
   ]
  },
  {
   "cell_type": "code",
   "execution_count": null,
   "metadata": {},
   "outputs": [],
   "source": []
  },
  {
   "cell_type": "markdown",
   "metadata": {},
   "source": [
    "6. Lister des outils d'aide à l'interprétation des résultats"
   ]
  },
  {
   "cell_type": "code",
   "execution_count": null,
   "metadata": {},
   "outputs": [],
   "source": []
  },
  {
   "cell_type": "markdown",
   "metadata": {},
   "source": [
    "## 2. PCA sur un jeu de données réelles\n",
    "\n",
    "(Durée moyenne : 2 heures)\n",
    "\n",
    "L’objectif de cette partie est de mettre en pratique à l'aide de Python la méthode ACP sur un jeu de données réel. Nous allons effectuer pas à pas les différentes étapes de calcul en portant une attention particulière à l'interprétation des résultats pour résumer les relations entre les variables et les individus.\n",
    "\n",
    "Nous allons nous intéresser au jeu de données sur les performances des athlètes de décathlon à 2 compétitions (JO et Décastar en 2004).Ils participent à 10 épreuves (100m, longueur, poids, hauteur, 400m, 110haies,disque, perche, javelot, 1500m).\n",
    "Pour ces deux compétitions, on dispose, pour chaque athlète présent, de **ses performances à chacune des 10 épreuves** (les épreuves de vitesse sont mesurées en seconde, les autres en mètres), de son **nombre de points** (à chaque épreuve, un athlète gagne des points en fonction de sa performance) et de son **classement final**. \n",
    "\n",
    "L'objectif de l'ACP sur ce jeu de données est de répondre à différentes questions :\n",
    "- Etude des individus (i.e. des athlètes) :  Y a-t-il des similarités entre les individus pour toutes les variables ? Peut-on établir des profils d'athlètes ? Peut-on opposer un groupe d'individus à un autre ?\n",
    "\n",
    "- Etude des variables (i.e. des performances) : on étudie les liaisons linéaires entre les variables. Les objectifs sont de résumer la matrice des corrélations et de chercher des variables synthétiques: peut-on résumer les performances des athlètes par un petit nombre de variables ?\n",
    "\n",
    "- Lien entre les deux études : peut-on caractériser des groupes d'individus par des variables ?"
   ]
  },
  {
   "cell_type": "markdown",
   "metadata": {},
   "source": [
    "1. Charger le fichier de données et afficher sa dimension"
   ]
  },
  {
   "cell_type": "code",
   "execution_count": 22,
   "metadata": {
    "ExecuteTime": {
     "end_time": "2020-04-21T08:23:56.707816Z",
     "start_time": "2020-04-21T08:23:56.698869Z"
    }
   },
   "outputs": [],
   "source": [
    "import pandas as pd\n",
    "import numpy as np\n",
    "data = pd.read_csv(\"Donnees_decathlon.txt\", sep=\"\\t\")"
   ]
  },
  {
   "cell_type": "code",
   "execution_count": 24,
   "metadata": {
    "ExecuteTime": {
     "end_time": "2020-04-21T08:24:26.540929Z",
     "start_time": "2020-04-21T08:24:26.529932Z"
    }
   },
   "outputs": [
    {
     "name": "stdout",
     "output_type": "stream",
     "text": [
      "          100m  Long  Poids  Haut   400m  110m.haies  Disque  Perche  Javelot  \\\n",
      "Sebrle   10.85  7.84  16.36  2.12  48.36       14.05   48.72     5.0    70.52   \n",
      "Clay     10.44  7.96  15.23  2.06  49.19       14.13   50.11     4.9    69.71   \n",
      "Karpov   10.50  7.81  15.93  2.09  46.81       13.97   51.65     4.6    55.54   \n",
      "Macey    10.89  7.47  15.73  2.15  48.97       14.56   48.34     4.4    58.46   \n",
      "Warners  10.62  7.74  14.48  1.97  47.97       14.01   43.73     4.9    55.39   \n",
      "\n",
      "          1500m  Classement  NbPoints Competition  \n",
      "Sebrle   280.01           1      8893    OlympicG  \n",
      "Clay     282.00           2      8820    OlympicG  \n",
      "Karpov   278.11           3      8725    OlympicG  \n",
      "Macey    265.42           4      8414    OlympicG  \n",
      "Warners  278.05           5      8343    OlympicG  \n",
      "(41, 13)\n"
     ]
    }
   ],
   "source": [
    "print(data.head())\n",
    "print(data.shape)"
   ]
  },
  {
   "cell_type": "markdown",
   "metadata": {},
   "source": [
    "2. Etude exploratoire des variables\n",
    "\n",
    "Afficher le type des variables. Afficher les statistiques descriptives de chaque variable. Analyser les boxplot des variables quantitatives. Construire la matrice des corrélations entre les variables quantitatives avec la librairie `seaborn`. Interpréter les résultats"
   ]
  },
  {
   "cell_type": "code",
   "execution_count": 27,
   "metadata": {
    "ExecuteTime": {
     "end_time": "2020-04-21T08:25:54.746936Z",
     "start_time": "2020-04-21T08:25:54.741949Z"
    }
   },
   "outputs": [
    {
     "name": "stdout",
     "output_type": "stream",
     "text": [
      "100m           float64\n",
      "Long           float64\n",
      "Poids          float64\n",
      "Haut           float64\n",
      "400m           float64\n",
      "110m.haies     float64\n",
      "Disque         float64\n",
      "Perche         float64\n",
      "Javelot        float64\n",
      "1500m          float64\n",
      "Classement       int64\n",
      "NbPoints         int64\n",
      "Competition     object\n",
      "dtype: object\n"
     ]
    }
   ],
   "source": [
    "import seaborn as sns\n",
    "print(data.dtypes)"
   ]
  },
  {
   "cell_type": "code",
   "execution_count": 38,
   "metadata": {
    "ExecuteTime": {
     "end_time": "2020-04-21T08:33:20.606700Z",
     "start_time": "2020-04-21T08:33:20.147891Z"
    }
   },
   "outputs": [
    {
     "data": {
      "image/png": "[encoded data removed]",
      "text/plain": [
       "<Figure size 432x288 with 1 Axes>"
      ]
     },
     "metadata": {},
     "output_type": "display_data"
    }
   ],
   "source": [
    "import matplotlib.pyplot as plt\n",
    "ax = sns.boxplot(data=data, orient=\"h\", palette=\"Set2\")"
   ]
  },
  {
   "cell_type": "code",
   "execution_count": 39,
   "metadata": {
    "ExecuteTime": {
     "end_time": "2020-04-21T08:34:24.646141Z",
     "start_time": "2020-04-21T08:34:23.656993Z"
    }
   },
   "outputs": [
    {
     "data": {
      "text/plain": [
       "<matplotlib.axes._subplots.AxesSubplot at 0x2de772bbc08>"
      ]
     },
     "execution_count": 39,
     "metadata": {},
     "output_type": "execute_result"
    },
    {
     "data": {
      "image/png": "[encoded data removed]",
      "text/plain": [
       "<Figure size 432x288 with 2 Axes>"
      ]
     },
     "metadata": {},
     "output_type": "display_data"
    }
   ],
   "source": [
    "sns.heatmap(data.corr())"
   ]
  },
  {
   "cell_type": "markdown",
   "metadata": {},
   "source": [
    "3. Standardiser (centrer et réduire) les données des 10 épreuves à l'aide de `sklearn.preprocessing.StandardScaler`. On appelera **Z la table en sortie**.\n",
    "   Contrôler après cette opération la moyenne et la variance de chaque variable."
   ]
  },
  {
   "cell_type": "code",
   "execution_count": null,
   "metadata": {},
   "outputs": [],
   "source": [
    "import sklearn.preprocessing impoirt Standard"
   ]
  },
  {
   "cell_type": "markdown",
   "metadata": {},
   "source": [
    "4. Afficher la DocString de `sklearn.decomposition.PCA` . Commenter la sortie.\n",
    "   \n",
    "   Réaliser la PCA de la matrice Z générée à l'étape précédente. Afficher le nombre par défaut de composantes principales."
   ]
  },
  {
   "cell_type": "code",
   "execution_count": null,
   "metadata": {},
   "outputs": [],
   "source": []
  },
  {
   "cell_type": "markdown",
   "metadata": {},
   "source": [
    "5. Afficher les valeurs propres associées à chaque composante (en nombre, pourcentage, pourcentage cumulé). Tracer le **scree Plot** des valeurs propres cumulées et non cumulées. Interpréter les résultats et sélectionner le nombre de composantes principales à retenir pour cette analyse. \n",
    "\n",
    "   **Bonus** : Diagonaliser la matrice de Variance-Covariance de Z et comparer les valeurs propres avec ceux en sortie de `PCA `"
   ]
  },
  {
   "cell_type": "code",
   "execution_count": null,
   "metadata": {},
   "outputs": [],
   "source": []
  },
  {
   "cell_type": "markdown",
   "metadata": {},
   "source": [
    "6. Refaire la PCA en fixant le nombre de composantes à celui retenu à l'étape précédente. Créer un DataFrame contenant les composantes principales.\n"
   ]
  },
  {
   "cell_type": "code",
   "execution_count": null,
   "metadata": {},
   "outputs": [],
   "source": []
  },
  {
   "cell_type": "markdown",
   "metadata": {},
   "source": [
    "7. Représenter graphiquement le nuage des individus dans le plan factoriel des deux premières composantes principales. Afficher les noms des athlètes. Que pouvez vous dire de\n",
    "    - Bourguignon et Karpov ?\n",
    "    - Barras et Qi ?\n",
    "    - Casarsa ?\n",
    "    - Serble et Clay ?"
   ]
  },
  {
   "cell_type": "code",
   "execution_count": null,
   "metadata": {},
   "outputs": [],
   "source": []
  },
  {
   "cell_type": "markdown",
   "metadata": {},
   "source": [
    "8.  Calculer la contribution des individus (athlètes) à l'inertie totale. Pour cela, calculer la somme des carrés des distances à l’origine des individus donnée par : \n",
    "\n",
    "Pour un individu i, $d_i^2 = \\sum_{j=1}^{10}z_{ij}^2$           \n",
    "\n",
    "$z_{ij}$ : élément i,j de la matrice Z    \n",
    "\n",
    "Afficher les résultats pour chaque individu i dans un DataFrame. Interpréter les résultats"
   ]
  },
  {
   "cell_type": "code",
   "execution_count": null,
   "metadata": {},
   "outputs": [],
   "source": []
  },
  {
   "cell_type": "markdown",
   "metadata": {},
   "source": [
    "9. En déduire de la question précédente,la qualité de représentation de chaque individu ($cos^2$) sur les axes k = 1 et k = 2 via la formule :\n",
    "\n",
    "$cos_{ik}^2 =\\frac{{coordonnée\\,de\\,l'individu\\,i\\,sur\\, l'axe\\, k}^2} {d_i^2}$\n",
    "\n",
    "Afficher les résultats dans un DataFrame. Commenter "
   ]
  },
  {
   "cell_type": "code",
   "execution_count": null,
   "metadata": {},
   "outputs": [],
   "source": []
  },
  {
   "cell_type": "markdown",
   "metadata": {},
   "source": [
    "10. Calculer la contribution des individus (CTR) aux axes k = 1 et k = 2\n",
    "\n",
    "$CTR{ik} = \\frac{{coordonnée\\,de\\,l'individu\\,i\\,sur\\, l'axe\\, k}^2} {n*\\lambda_k}$\n",
    "\n",
    "$\\lambda_k$ est la valeur propre associée à l'axe 1 et n le nombre d'individus\n",
    "\n",
    "Afficher les résultats dans un DataFrame. Vérifier que la somme des contributions des individus pour un axe donné vaut 1"
   ]
  },
  {
   "cell_type": "code",
   "execution_count": null,
   "metadata": {},
   "outputs": [],
   "source": []
  },
  {
   "cell_type": "markdown",
   "metadata": {},
   "source": [
    "10. on cherche à analyser les variables sur les axes 1 et 2. POur ce faire, afficher les vecteurs propres de la PCA et calculer la racine des valeurs propres des axes 1 et 2\n",
    "\n",
    "Afficher la matrice de corrélation des variables avec les facteurs. Pour ce faire, calculer les corrélations comme le produit de vecteur propre et la racine de la valeur propre associés à l'axe k (k = 1 et k = 2)\n",
    "\n",
    "Tracer le nuage des variables dans le cercle des corrélations (afficher le nom des variables) dans le plan factoriel (1,2). Interpréter les résultats.\n",
    "\n",
    "- Que peut-on dire sur les scores des épreuves du 110m haie et les épreuves du 100m?\n",
    "- Idem par rapport au saut en longueur ?\n",
    "- Que peut-on dire sur les scores de l’épreuve du javelot ou du saut à la perche ?"
   ]
  },
  {
   "cell_type": "code",
   "execution_count": null,
   "metadata": {},
   "outputs": [],
   "source": []
  },
  {
   "cell_type": "markdown",
   "metadata": {},
   "source": [
    "10. Analyser la qualité de représentation des variables ($Cos^2$) dans le plan factoriel (1,2) ainsi que la contribution de chaque variable aux facteurs k = 1 et k = 2\n",
    "\n",
    "$ 𝐶𝑂𝑆_{𝑗𝑘}^2={correlation\\,de \\,la\\, variable\\, j \\,avec \\,l'axe \\,k}^2$\n",
    "\n",
    "$ 𝐶𝑇𝑅_{𝑗𝑘}=\\frac{{correlation\\,de \\,la\\, variable\\, j \\,avec \\,l'axe \\,k}^2}{\\lambda_𝑘}$\n",
    "\n",
    "Créer un DataFrame avec les résultats et les commenter."
   ]
  },
  {
   "cell_type": "markdown",
   "metadata": {},
   "source": [
    "11. interpréter le troisième axe factoriel. Que semble t-il représenter?"
   ]
  },
  {
   "cell_type": "code",
   "execution_count": null,
   "metadata": {},
   "outputs": [],
   "source": []
  },
  {
   "cell_type": "markdown",
   "metadata": {},
   "source": [
    "12. Comment pourrions-nous améliorer notre analyse? (introduction de nouvelles informations par exemple,...)"
   ]
  }
 ],
 "metadata": {
  "kernelspec": {
   "display_name": "Python 3",
   "language": "python",
   "name": "python3"
  },
  "language_info": {
   "codemirror_mode": {
    "name": "ipython",
    "version": 3
   },
   "file_extension": ".py",
   "mimetype": "text/x-python",
   "name": "python",
   "nbconvert_exporter": "python",
   "pygments_lexer": "ipython3",
   "version": "3.7.4"
  },
  "toc": {
   "base_numbering": 1,
   "nav_menu": {},
   "number_sections": true,
   "sideBar": true,
   "skip_h1_title": false,
   "title_cell": "Table of Contents",
   "title_sidebar": "Contents",
   "toc_cell": false,
   "toc_position": {},
   "toc_section_display": true,
   "toc_window_display": false
  },
  "varInspector": {
   "cols": {
    "lenName": 16,
    "lenType": 16,
    "lenVar": 40
   },
   "kernels_config": {
    "python": {
     "delete_cmd_postfix": "",
     "delete_cmd_prefix": "del ",
     "library": "var_list.py",
     "varRefreshCmd": "print(var_dic_list())"
    },
    "r": {
     "delete_cmd_postfix": ") ",
     "delete_cmd_prefix": "rm(",
     "library": "var_list.r",
     "varRefreshCmd": "cat(var_dic_list()) "
    }
   },
   "types_to_exclude": [
    "module",
    "function",
    "builtin_function_or_method",
    "instance",
    "_Feature"
   ],
   "window_display": false
  }
 },
 "nbformat": 4,
 "nbformat_minor": 2
}

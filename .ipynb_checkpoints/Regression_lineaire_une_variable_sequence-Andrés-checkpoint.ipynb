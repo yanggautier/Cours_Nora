{
 "cells": [
  {
   "cell_type": "markdown",
   "metadata": {},
   "source": [
    "# Régression linéaire avec descente de gradient from scratch - une variable"
   ]
  },
  {
   "cell_type": "markdown",
   "metadata": {},
   "source": [
    "Dans cet exercice, on va réimplementer une régression linéaire **depuis zéro (from scratch)** en utilisant la méthode de **descente de gradient (gradient descent)**. On part du modèle suivant à une variable : $ y = f_{\\theta}(x) = \\theta_0 + \\theta_1 * x + \\epsilon$ \n",
    "\n",
    "où y désigne la variable cible (*target*) et x une variable explicative (*feature*).\n",
    "\n",
    "On cherche à estimer $\\theta_0$ et $\\theta_1$. Dans ce notebook, on va créer plusieurs fonctions intermédiaires pour implémenter la descente de gradient.On vérifiera ensuite les paramètres obtenus en sortie en utilisant des données simulées."
   ]
  },
  {
   "cell_type": "markdown",
   "metadata": {},
   "source": [
    "1. Coder la fonction **predict_linear(x, theta0, theta1)** pour une régression linéaire utilisant une variable : $ \\hat{y} = f_{\\theta}(x) = \\theta_0 + \\theta_1 * x$\n"
   ]
  },
  {
   "cell_type": "code",
   "execution_count": null,
   "metadata": {},
   "outputs": [],
   "source": [
    "import matplotlib.pyplot as plt\n",
    "import numpy as np"
   ]
  },
  {
   "cell_type": "code",
   "execution_count": null,
   "metadata": {},
   "outputs": [],
   "source": [
    "def predict_linear(x, theta0, theta1):\n",
    "    y_hat = theta0 + theta1*x\n",
    "    return y_hat"
   ]
  },
  {
   "cell_type": "markdown",
   "metadata": {},
   "source": [
    "Pour trouver les paramètres d'un modèle, il est habituel d'utiliser la moyenne des erreurs au carré (Mean Squared Error - MSE) comme fonction de coût.\n",
    "\n",
    "2. En partant du modèle précédent et avoir défini la MSE,coder la fonction **mse(predictions, labels)** qui calcule la MSE entre les prédictions d'un modèle et les labels ($y$)\n"
   ]
  },
  {
   "cell_type": "markdown",
   "metadata": {},
   "source": [
    "Fonction MSE comme fonction de coût : \n",
    "$$\n",
    "J(\\theta_{1}) = \\frac{\\sum_{i=1}^{n}(x_{i}\\theta_{1} + \\theta_{0} - y_{i})^{2}}{2n}\n",
    "$$"
   ]
  },
  {
   "cell_type": "code",
   "execution_count": null,
   "metadata": {},
   "outputs": [],
   "source": [
    "def mse (x,theta0, theta1,y):\n",
    "    n = len(y)\n",
    "    J = np.sum(predict_linear(x, theta0, theta1) ** 2)/(2 * n)\n",
    "    return J"
   ]
  },
  {
   "cell_type": "markdown",
   "metadata": {},
   "source": [
    "3. Coder la fonction **grad(x**_**, y, theta0**_ **,theta1)** qui calcule le gradient de la fonction **de coût** pour la régression linéaire (la MSE). Le type de retour devra être un vecteur numpy\n"
   ]
  },
  {
   "cell_type": "code",
   "execution_count": null,
   "metadata": {},
   "outputs": [],
   "source": [
    "h = 0.001\n",
    "def grad(x, y, theta0 ,theta1) :\n",
    "    derivee_partielle_mse_theta1 = ( mse(x,theta0 + h, theta1,y) - mse(x,theta0, theta1,y) ) / n\n",
    "    derivee_partielle_mse_theta0 = ( mse(x,theta0, theta1 + h,y) - mse(x,theta0, theta1 + h,y) ) / n\n",
    "    grad = derivee_partielle_mse_theta0 + derivee_partielle_mse_theta1\n",
    "    return grad"
   ]
  },
  {
   "cell_type": "markdown",
   "metadata": {},
   "source": [
    "4. Coder la fonction compute_theta_sgd(theta0, theta1, learning_rate,x ,y) et qui renvoie les nouveaux $/theta$ selon la Stochastic Gradient Descent\n"
   ]
  },
  {
   "cell_type": "code",
   "execution_count": null,
   "metadata": {},
   "outputs": [],
   "source": [
    "theta0_old = 1 # initial theta\n",
    "theta1_old = 1\n",
    "def compute_theta_sgd(theta0, theta1, learning_rate,x ,y):\n",
    "    theta0_new = theta0_old - learning_rate * grad(x, y, theta0 ,theta1)\n",
    "    theta1_new = theta1_old - learning_rate * grad(x, y, theta0 ,theta1)\n",
    "    return theta0_new,theta1_new"
   ]
  },
  {
   "cell_type": "markdown",
   "metadata": {},
   "source": [
    "5. Reprendre les fonctions précédentes et faire une fonction **gradient_descent(X, y, theta_0, theta_1, learning_rate, n_iterations)** pour effectuer la descente de gradient et qui retourne theta0 et theta1 après l'entraînement (sous forme de liste)\n",
    " - learning_rate : Taux d'apprentissage\n",
    " - n_iterations : Nombre d'itérations\n",
    " "
   ]
  },
  {
   "cell_type": "code",
   "execution_count": null,
   "metadata": {},
   "outputs": [],
   "source": [
    "def gradient_descent(x, y, theta_0, theta_1, learning_rate, n_iterations):\n",
    "    theta0_history = []\n",
    "    theta1_history = []\n",
    "\n",
    "    for i in range(n_iterations):\n",
    "        compute_theta_sgd(theta0, theta1, learning_rate,x ,y)\n",
    "        theta0_history.append(theta0_new)\n",
    "        theta1_history.append(theta1_new)\n",
    "    return  theta0_history,theta1_history"
   ]
  },
  {
   "cell_type": "markdown",
   "metadata": {},
   "source": [
    "L'algorithme du gradient revient à itérer :\n",
    "$$\n",
    "\\theta = \\theta - \\alpha \\frac{\\partial J(\\theta)}{\\partial \\theta}\n",
    "$$\n",
    "où $\\alpha$ est le 'learning rate'  \n",
    "On doit calculer le terme contenant la dérivée partielle :\n"
   ]
  },
  {
   "cell_type": "markdown",
   "metadata": {},
   "source": [
    "$$\n",
    "\\begin{align}\n",
    "\\frac{\\partial J(\\theta)}{\\partial \\theta} &= \\frac{1}{2n} \\times 2 \\times \\sum_{i=1}^{n}(x_{i}\\theta_{1}+ \\theta_{0}-y_{i}) \\times \\frac{\\partial}{\\partial \\theta}(\\sum_{i=1}^{n}(x_{i}\\theta_{1}+ \\theta_{0}-y_{i})) \\\\\n",
    "\\frac{\\partial J(\\theta)}{\\partial \\theta} &=\\frac{\\sum_{i=1}^{n}(\\theta_{1} x + \\theta_{0}- y)x}{n} \n",
    "\\end{align}\n",
    "$$"
   ]
  },
  {
   "cell_type": "markdown",
   "metadata": {},
   "source": [
    "Donc la fonction du gradient à iterer est égale à :\n",
    "$$\n",
    "\\theta_{i+1} = \\theta_{i} - \\alpha \\frac{\\sum_{i=1}^{n}(\\theta_{0} + \\theta_{1}x - y)x}{n}\n",
    "$$"
   ]
  },
  {
   "cell_type": "markdown",
   "metadata": {},
   "source": [
    "# Avec données réelles"
   ]
  },
  {
   "cell_type": "code",
   "execution_count": null,
   "metadata": {},
   "outputs": [],
   "source": [
    "import matplotlib.pyplot as plt\n",
    "import numpy as np\n",
    "import pandas as pd\n",
    "import seaborn as sns   # useful ?\n",
    "from sklearn.linear_model import LinearRegression             # To construct the model\n",
    "from sklearn.preprocessing import LabelEncoder, OneHotEncoder # encode names to ints\n",
    "from sklearn.model_selection import train_test_split          # To split datasets\n",
    "from sklearn.metrics import mean_squared_error, r2_score      # Evaluation methods"
   ]
  },
  {
   "cell_type": "markdown",
   "metadata": {},
   "source": [
    "1. Jeu de données réelles : Housing data\n",
    "from sklearn.datasets import load_boston\n",
    "    * Plot des prix de l'immobilier en fonction de la surface\n",
    "    * Regression linéaire des prix en fonction de la surface\n",
    "    * Récupération des theta0 et theta1 estimés\n",
    "\n",
    "\n",
    "2. Simulation de données\n",
    "x = 2 * np.random.rand(100,1)\n",
    "y = 2 +3 * x+np.random.randn(100,1) --> à modifier si vous le souhaitez\n",
    "ici theta0 = 2 theta1 = 3"
   ]
  },
  {
   "cell_type": "code",
   "execution_count": 15,
   "metadata": {},
   "outputs": [],
   "source": [
    "# x = 2 * np.random.rand(100,1) \n",
    "# y = 2 +3 * x+np.random.randn(100,1)"
   ]
  },
  {
   "cell_type": "code",
   "execution_count": 2,
   "metadata": {},
   "outputs": [],
   "source": [
    "from sklearn.datasets import load_boston"
   ]
  },
  {
   "cell_type": "code",
   "execution_count": 228,
   "metadata": {},
   "outputs": [],
   "source": [
    "X = pd.DataFrame(boston.data, columns=boston.feature_names)['RM']\n",
    "y = boston.target"
   ]
  },
  {
   "cell_type": "markdown",
   "metadata": {},
   "source": [
    "## From scratch"
   ]
  },
  {
   "cell_type": "code",
   "execution_count": 229,
   "metadata": {},
   "outputs": [],
   "source": [
    "m = len(X)\n",
    "x0 = np.ones(m)\n",
    "X2 = np.array([x0,X]).T # [x0,X] are line matrixes, we transpose (.T) because of next step : X.dot(thetas)\n",
    "\n",
    "# Initial Coefficients\n",
    "thetas = np.array([0, 0])   # line matrix with zeros\n",
    "Y = np.array(y)\n",
    "alpha = 0.01\n",
    "\n",
    "def cost_function(X2, Y, thetas):\n",
    "    m = len(Y)\n",
    "    J = np.sum((X2.dot(thetas) - Y) ** 2)/(2 * m)\n",
    "    return J\n",
    "\n",
    "inital_cost = cost_function(X2, Y, thetas) # Error in coefficient is huge (0.38 vs 0.15)\n",
    "def gradient_descent(X2, Y, thetas, alpha, iterations):\n",
    "    cost_history = [0] * iterations\n",
    "#     m = len(Y)\n",
    "    \n",
    "    for i in range(iterations):\n",
    "        thetas = thetas - alpha * (X2.T.dot(X2.dot(thetas) - Y) / m)\n",
    "        # New Cost Value\n",
    "        cost = cost_function(X2, Y, thetas)\n",
    "        cost_history[i] = cost\n",
    "        \n",
    "    return thetas,cost_history"
   ]
  },
  {
   "cell_type": "code",
   "execution_count": 235,
   "metadata": {
    "scrolled": true
   },
   "outputs": [],
   "source": [
    "# Iterations\n",
    "newthetas, cost_history = gradient_descent(X2, Y, thetas, alpha, 10000)"
   ]
  },
  {
   "cell_type": "code",
   "execution_count": 236,
   "metadata": {},
   "outputs": [
    {
     "data": {
      "text/plain": [
       "array([-24.08508709,   7.43800942])"
      ]
     },
     "execution_count": 236,
     "metadata": {},
     "output_type": "execute_result"
    }
   ],
   "source": [
    "newthetas   # out [] : [0.02711739 0.15912797]  -->  Y = 0.02711739 + 0.15912797 X\n",
    "y_scratch = newthetas[0]+X*newthetas[1]\n",
    "newthetas"
   ]
  },
  {
   "cell_type": "code",
   "execution_count": 237,
   "metadata": {
    "scrolled": true
   },
   "outputs": [
    {
     "data": {
      "text/plain": [
       "0.46717161094451454"
      ]
     },
     "execution_count": 237,
     "metadata": {},
     "output_type": "execute_result"
    }
   ],
   "source": [
    "def r2_sq(Y, Y_pred):\n",
    "    mean_y = np.mean(Y)\n",
    "    ss_tot = sum((Y - mean_y) ** 2)\n",
    "    ss_res = sum((Y - Y_pred) ** 2)\n",
    "    r2 = 1 - (ss_res / ss_tot)\n",
    "    return r2\n",
    "r2_sq(y, y_scratch)"
   ]
  },
  {
   "cell_type": "markdown",
   "metadata": {},
   "source": [
    "## With sklearn"
   ]
  },
  {
   "cell_type": "code",
   "execution_count": 238,
   "metadata": {
    "scrolled": false
   },
   "outputs": [
    {
     "name": "stdout",
     "output_type": "stream",
     "text": [
      "-34.67062077643857\n",
      "[9.10210898]\n",
      "0.48352545599133423\n"
     ]
    }
   ],
   "source": [
    "from sklearn.linear_model import LinearRegression\n",
    "from sklearn import metrics\n",
    "\n",
    "X1 = np.array(X).reshape(-1, 1)\n",
    "\n",
    "regressor = LinearRegression()\n",
    "regressor.fit(X1,y)\n",
    "\n",
    "y_regressor = X*regressor.coef_ + regressor.intercept_\n",
    "\n",
    "print(regressor.intercept_)\n",
    "print(regressor.coef_)\n",
    "print(r2_score(y,y_regressor))"
   ]
  },
  {
   "cell_type": "markdown",
   "metadata": {},
   "source": [
    "## Plots"
   ]
  },
  {
   "cell_type": "code",
   "execution_count": 239,
   "metadata": {
    "scrolled": true
   },
   "outputs": [
    {
     "data": {
      "image/png": "[encoded data removed]",
      "text/plain": [
       "<Figure size 432x288 with 1 Axes>"
      ]
     },
     "metadata": {
      "needs_background": "light"
     },
     "output_type": "display_data"
    }
   ],
   "source": [
    "plt.scatter(X, y,  color='black')\n",
    "plt.plot(X, y_regressor, color='blue', linewidth=3)\n",
    "plt.plot(X, y_scratch, color='green', linewidth=3)\n",
    "\n",
    "\n",
    "plt.xlabel('Price')\n",
    "plt.ylabel('RM')\n",
    "\n",
    "plt.show()"
   ]
  },
  {
   "cell_type": "code",
   "execution_count": null,
   "metadata": {},
   "outputs": [],
   "source": []
  },
  {
   "cell_type": "code",
   "execution_count": null,
   "metadata": {},
   "outputs": [],
   "source": []
  }
 ],
 "metadata": {
  "kernelspec": {
   "display_name": "Python 3",
   "language": "python",
   "name": "python3"
  },
  "language_info": {
   "codemirror_mode": {
    "name": "ipython",
    "version": 3
   },
   "file_extension": ".py",
   "mimetype": "text/x-python",
   "name": "python",
   "nbconvert_exporter": "python",
   "pygments_lexer": "ipython3",
   "version": "3.7.4"
  },
  "toc": {
   "base_numbering": 1,
   "nav_menu": {},
   "number_sections": true,
   "sideBar": true,
   "skip_h1_title": false,
   "title_cell": "Table of Contents",
   "title_sidebar": "Contents",
   "toc_cell": false,
   "toc_position": {},
   "toc_section_display": true,
   "toc_window_display": false
  },
  "varInspector": {
   "cols": {
    "lenName": 16,
    "lenType": 16,
    "lenVar": 40
   },
   "kernels_config": {
    "python": {
     "delete_cmd_postfix": "",
     "delete_cmd_prefix": "del ",
     "library": "var_list.py",
     "varRefreshCmd": "print(var_dic_list())"
    },
    "r": {
     "delete_cmd_postfix": ") ",
     "delete_cmd_prefix": "rm(",
     "library": "var_list.r",
     "varRefreshCmd": "cat(var_dic_list()) "
    }
   },
   "types_to_exclude": [
    "module",
    "function",
    "builtin_function_or_method",
    "instance",
    "_Feature"
   ],
   "window_display": false
  }
 },
 "nbformat": 4,
 "nbformat_minor": 2
}

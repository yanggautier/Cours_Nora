{
 "cells": [
  {
   "cell_type": "markdown",
   "metadata": {},
   "source": [
    "# Multi Layer Perceptron (MLP)"
   ]
  },
  {
   "attachments": {
    "mlp.png": {
     "image/png": "[encoded data removed]"
    }
   },
   "cell_type": "markdown",
   "metadata": {},
   "source": [
    "L'objectif de ce notebook est d'étudier d’étudier les réseaux de neurones artificiel de type  **perceptron multicouches (MultiLayer Perceptron - MLP)**. Il généralise le perceptron afin d'apprendre des modèles plus complexes c'est-à-dire non linéaires.\n",
    "\n",
    "![mlp.png](attachment:mlp.png)\n",
    "\n",
    "Après avoir défini les notions de bases d'un MLP, nous allons :\n",
    "1. nous intéresser à l'apprentissage des fonctions booléennes **AND, OR et XOR** par un MLP\n",
    "2. faire de la classification des images du dataset **MNIST** (chiffres manuscrits) à partir d'un MLP\n"
   ]
  },
  {
   "cell_type": "markdown",
   "metadata": {},
   "source": [
    "## 1. Définitions"
   ]
  },
  {
   "cell_type": "markdown",
   "metadata": {},
   "source": [
    "1. Définir la structure d'un MLP (forme, paramètres à ajuste,...)"
   ]
  },
  {
   "cell_type": "markdown",
   "metadata": {},
   "source": [
    "2. Définir la fonction d'activation. Donner des exemples"
   ]
  },
  {
   "cell_type": "markdown",
   "metadata": {},
   "source": [
    "3. Définir la forward propagation et la back propagation"
   ]
  },
  {
   "cell_type": "markdown",
   "metadata": {},
   "source": [
    "## 2. Implémentation du MLP"
   ]
  },
  {
   "cell_type": "markdown",
   "metadata": {},
   "source": [
    "### 2.1 Apprentissage des fonctions boolénnes AND, OR et XOR par un MLP"
   ]
  },
  {
   "cell_type": "markdown",
   "metadata": {},
   "source": [
    "1. Pour chaque fonction booléenne, générer 2 variables binaires X1 et X2 (valeurs possibles 0 ou 1) et une variable Y qui regroupe l'ensemble des résultats attendus en sortie de ces fonctions. \n"
   ]
  },
  {
   "cell_type": "markdown",
   "metadata": {},
   "source": [
    "2. Afficher la DocString de `sklearn.neural_network.MLPClassifier`. Commenter"
   ]
  },
  {
   "cell_type": "markdown",
   "metadata": {},
   "source": [
    "3. Définir plusieurs `MLPClassifier` pour apprendre les fonctions AND, OR et XOR à partir des données de la question 1 à l'aide des paramètrages suivants :\n",
    "\n",
    "**Fonctions AND et OR**\n",
    "\n",
    "- Sans couche cachée, une fonction activation linéaire, un solver de type lbfgs\n",
    "- Sans couche cachée, une fonction activation linéaire, un solver de type sgd\n",
    "\n",
    "Analyser dans chacun des cas les prédictions (vs observations). Interpréter"
   ]
  },
  {
   "cell_type": "markdown",
   "metadata": {},
   "source": [
    "**Fonction XOR**\n",
    "\n",
    "- Sans couche cachée, fonction activation linéaire, solver de type lbfgs\n",
    "- 2 couches cachées respectivement de 4 neurones et 2 neurones, fonction d'activation linéaire et - - 2 couches cachées respectivement de 4 neurones et 2 neurones, fonction d'activation tangente hyperbolique et solver de type lbfgs\n",
    "- 2 couches cachées respectivement de 4 neurones et 2 neurones, fonction d'activation tangente hyperbolique et solver de type sgd\n",
    "\n",
    "Analyser dans chacun des cas les prédictions (vs observations). Interpréter"
   ]
  },
  {
   "cell_type": "markdown",
   "metadata": {},
   "source": [
    "### 2.1 Classification d'images - dataset MNIST"
   ]
  },
  {
   "cell_type": "markdown",
   "metadata": {},
   "source": [
    "1. Charger les données à partir de la librairie `keras` et Afficher les dimensions (samples Train et Test)"
   ]
  },
  {
   "cell_type": "markdown",
   "metadata": {},
   "source": [
    "2. Afficher quelques images du dataset"
   ]
  },
  {
   "cell_type": "markdown",
   "metadata": {},
   "source": [
    "3. Redimensionner les données et transformer les valeurs des pixels pour qu'ils soient compris entre 0 et 1"
   ]
  },
  {
   "cell_type": "markdown",
   "metadata": {},
   "source": [
    "4. Entrainez un `MLPClassifier` sur les données de training. \n",
    "\n",
    "   Tester plusieurs valeurs de paramètres (nombre de couches cachées, nombre de neurones par couche, fonction d’activation, solver)"
   ]
  },
  {
   "cell_type": "markdown",
   "metadata": {},
   "source": [
    "5. Evaluer les performances des modèles générés sur les données de test. "
   ]
  },
  {
   "cell_type": "markdown",
   "metadata": {},
   "source": [
    "6. Stocker les résultats dans un DataFrame. Interpréter"
   ]
  }
 ],
 "metadata": {
  "kernelspec": {
   "display_name": "Python 3",
   "language": "python",
   "name": "python3"
  },
  "language_info": {
   "codemirror_mode": {
    "name": "ipython",
    "version": 3
   },
   "file_extension": ".py",
   "mimetype": "text/x-python",
   "name": "python",
   "nbconvert_exporter": "python",
   "pygments_lexer": "ipython3",
   "version": "3.7.6"
  },
  "latex_envs": {
   "LaTeX_envs_menu_present": true,
   "autoclose": false,
   "autocomplete": true,
   "bibliofile": "biblio.bib",
   "cite_by": "apalike",
   "current_citInitial": 1,
   "eqLabelWithNumbers": true,
   "eqNumInitial": 1,
   "hotkeys": {
    "equation": "Ctrl-E",
    "itemize": "Ctrl-I"
   },
   "labels_anchors": false,
   "latex_user_defs": false,
   "report_style_numbering": false,
   "user_envs_cfg": false
  },
  "toc": {
   "base_numbering": 1,
   "nav_menu": {},
   "number_sections": true,
   "sideBar": true,
   "skip_h1_title": false,
   "title_cell": "Table of Contents",
   "title_sidebar": "Contents",
   "toc_cell": false,
   "toc_position": {},
   "toc_section_display": true,
   "toc_window_display": false
  },
  "varInspector": {
   "cols": {
    "lenName": 16,
    "lenType": 16,
    "lenVar": 40
   },
   "kernels_config": {
    "python": {
     "delete_cmd_postfix": "",
     "delete_cmd_prefix": "del ",
     "library": "var_list.py",
     "varRefreshCmd": "print(var_dic_list())"
    },
    "r": {
     "delete_cmd_postfix": ") ",
     "delete_cmd_prefix": "rm(",
     "library": "var_list.r",
     "varRefreshCmd": "cat(var_dic_list()) "
    }
   },
   "types_to_exclude": [
    "module",
    "function",
    "builtin_function_or_method",
    "instance",
    "_Feature"
   ],
   "window_display": false
  }
 },
 "nbformat": 4,
 "nbformat_minor": 2
}

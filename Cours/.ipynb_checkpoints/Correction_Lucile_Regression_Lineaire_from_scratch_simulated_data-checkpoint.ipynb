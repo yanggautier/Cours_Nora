{
 "cells": [
  {
   "cell_type": "code",
   "execution_count": 5,
   "metadata": {},
   "outputs": [],
   "source": [
    "import matplotlib.pyplot as plt\n",
    "import numpy as np\n",
    "import pandas as pd\n",
    "import seaborn as sns\n",
    "from IPython.core.interactiveshell import InteractiveShell\n",
    "InteractiveShell.ast_node_interactivity = \"all\""
   ]
  },
  {
   "cell_type": "markdown",
   "metadata": {},
   "source": [
    "Calcul du grad de la cost function J  :"
   ]
  },
  {
   "attachments": {
    "image.png": {
     "image/png": "[encoded data removed]"
    }
   },
   "cell_type": "markdown",
   "metadata": {},
   "source": [
    "![image.png](attachment:image.png)"
   ]
  },
  {
   "cell_type": "code",
   "execution_count": null,
   "metadata": {},
   "outputs": [],
   "source": [
    "## Simulation de donnée \n",
    "\n",
    "\n",
    "#### simulated data \n",
    "# Generate 'random' data y=ax+b\n",
    "np.random.seed(0)\n",
    "X = 2.5 * np.random.randn(100) + 1.5   # Array of 100 values with mean = 1.5, stddev = 2.5          \n",
    "res = 0.5 * np.random.randn(100)        # Generate 100 residual terms\n",
    "y = 2 + 1.5 * X + res                  # Actual values of Y\n",
    "\n",
    "X.shape\n",
    "y.shape\n",
    "\n",
    "# Create pandas dataframe to store our X and y values\n",
    "df = pd.DataFrame(\n",
    "    {'X': X,\n",
    "     'y': y}\n",
    ")\n",
    "\n",
    "df.head()\n",
    "\n",
    "\n",
    "### PLOT Y=f(X)\n",
    "fig, ax = plt.subplots(1, 1, figsize=(5,5))\n",
    "\n",
    "ax.plot(df['X'],df['y'], linestyle='none', marker='o', label =\"simulated data\")\n",
    "\n",
    "ax.set_ylabel('y')\n",
    "ax.set_xlabel('X')"
   ]
  },
  {
   "cell_type": "code",
   "execution_count": 7,
   "metadata": {},
   "outputs": [],
   "source": [
    "### insert cost_history and theta_history to see their evolution in function of iterations\n",
    "n=2 ## number of features \n",
    "\n",
    "def predict_linear(x, theta_0, theta_1):\n",
    "    return theta_1 *x + theta_0 \n",
    "    \n",
    "def MSE(x, theta_0, theta_1, y):\n",
    "    m=len(y)\n",
    "    predictions=predict_linear(x, theta_0, theta_1)\n",
    "    mse = (1/2*m) * sum((predictions-y)**2)\n",
    "    return mse\n",
    "\n",
    "def grad(x, y, theta_0,theta_1):\n",
    "    m=len(y)\n",
    "    predictions=predict_linear(x, theta_0, theta_1)\n",
    "    grad= np.zeros(shape=(n,1))\n",
    "    grad[0]=(1/m)*sum(predictions - y) \n",
    "    grad[1]=(1/m)*sum((predictions - y)*x) \n",
    "    return grad\n",
    "\n",
    "def compute_theta_sgd(x, y , theta_0, theta_1, learning_rate):\n",
    "    print(theta_0,theta_1)\n",
    "    J_grad=grad(x,y,theta_0,theta_1)\n",
    "    theta = np.array([[theta_0],[theta_1]], dtype = float)\n",
    "    theta[0] = theta[0] - learning_rate*J_grad[0]\n",
    "    theta[1] = theta[1] - learning_rate*J_grad[1]\n",
    "    return theta\n",
    "\n",
    "def gradient_descent(x, y, theta_0, theta_1, alpha, n_iterations):\n",
    "    theta = np.array([[theta_0],[theta_1]],dtype = float)\n",
    "    \n",
    "    J_history = np.zeros((n_iterations,1))\n",
    "    \n",
    "    theta_history = np.zeros((n_iterations,n)) \n",
    "    \n",
    "    for iter in range(n_iterations):\n",
    "        J_grad=grad(x,y,theta[0],theta[1])\n",
    "        theta[0] = theta[0] - alpha * J_grad[0]\n",
    "        theta[1] = theta[1] - alpha * J_grad[1]\n",
    "        J_history[iter]= MSE(x, theta[0], theta[1], y)\n",
    "        theta_history[iter,:]=theta.T\n",
    "        \n",
    "    return theta, theta_history, J_history"
   ]
  },
  {
   "cell_type": "code",
   "execution_count": 11,
   "metadata": {},
   "outputs": [
    {
     "data": {
      "text/plain": [
       "(1000, 1)"
      ]
     },
     "execution_count": 11,
     "metadata": {},
     "output_type": "execute_result"
    },
    {
     "data": {
      "text/plain": [
       "(1000, 2)"
      ]
     },
     "execution_count": 11,
     "metadata": {},
     "output_type": "execute_result"
    }
   ],
   "source": [
    "#initialization des thetas :\n",
    "theta_0=0\n",
    "theta_1=0\n",
    "### GD \n",
    "theta, theta_history, J_history=gradient_descent(X, y, theta_0, theta_1, 0.01 , 1000)\n",
    "J_history.shape\n",
    "theta_history.shape"
   ]
  },
  {
   "cell_type": "code",
   "execution_count": 12,
   "metadata": {},
   "outputs": [
    {
     "data": {
      "text/plain": [
       "[<matplotlib.lines.Line2D at 0x198d303c6c8>]"
      ]
     },
     "execution_count": 12,
     "metadata": {},
     "output_type": "execute_result"
    },
    {
     "data": {
      "text/plain": [
       "[<matplotlib.lines.Line2D at 0x198d2ff7188>]"
      ]
     },
     "execution_count": 12,
     "metadata": {},
     "output_type": "execute_result"
    },
    {
     "data": {
      "text/plain": [
       "Text(0, 0.5, 'y')"
      ]
     },
     "execution_count": 12,
     "metadata": {},
     "output_type": "execute_result"
    },
    {
     "data": {
      "text/plain": [
       "Text(0.5, 0, 'X')"
      ]
     },
     "execution_count": 12,
     "metadata": {},
     "output_type": "execute_result"
    },
    {
     "data": {
      "text/plain": [
       "<matplotlib.legend.Legend at 0x198d300c1c8>"
      ]
     },
     "execution_count": 12,
     "metadata": {},
     "output_type": "execute_result"
    },
    {
     "data": {
      "image/png": "[encoded data removed]",
      "text/plain": [
       "<Figure size 360x360 with 1 Axes>"
      ]
     },
     "metadata": {
      "needs_background": "light"
     },
     "output_type": "display_data"
    }
   ],
   "source": [
    "### plot predictions \n",
    "fig, ax = plt.subplots(1, 1, figsize=(5,5))\n",
    "\n",
    "ax.plot(df['X'],df['y'], linestyle='none', marker='o', label =\"simulated data\")\n",
    "ax.plot(df['X'],predict_linear(X, theta[0], theta[1]), label =\"predicted data\")\n",
    "\n",
    "ax.set_ylabel('y')\n",
    "ax.set_xlabel('X')\n",
    "ax.legend()"
   ]
  },
  {
   "cell_type": "code",
   "execution_count": 13,
   "metadata": {},
   "outputs": [
    {
     "data": {
      "text/plain": [
       "[<matplotlib.lines.Line2D at 0x198d30b4b08>]"
      ]
     },
     "execution_count": 13,
     "metadata": {},
     "output_type": "execute_result"
    },
    {
     "data": {
      "text/plain": [
       "Text(0, 0.5, 'cost function')"
      ]
     },
     "execution_count": 13,
     "metadata": {},
     "output_type": "execute_result"
    },
    {
     "data": {
      "text/plain": [
       "Text(0.5, 0, 'iterations')"
      ]
     },
     "execution_count": 13,
     "metadata": {},
     "output_type": "execute_result"
    },
    {
     "name": "stderr",
     "output_type": "stream",
     "text": [
      "No handles with labels found to put in legend.\n"
     ]
    },
    {
     "data": {
      "text/plain": [
       "<matplotlib.legend.Legend at 0x198d30b8d08>"
      ]
     },
     "execution_count": 13,
     "metadata": {},
     "output_type": "execute_result"
    },
    {
     "data": {
      "image/png": "[encoded data removed]",
      "text/plain": [
       "<Figure size 360x360 with 1 Axes>"
      ]
     },
     "metadata": {
      "needs_background": "light"
     },
     "output_type": "display_data"
    }
   ],
   "source": [
    "# plot Cost function J en fonction iterations \n",
    "fig, ax = plt.subplots(1, 1, figsize=(5,5))\n",
    "n_iterations=1000\n",
    "ax.plot(range(n_iterations),J_history, linestyle='none', marker='o')\n",
    "\n",
    "ax.set_ylabel('cost function')\n",
    "ax.set_xlabel('iterations')\n",
    "ax.legend()"
   ]
  },
  {
   "cell_type": "code",
   "execution_count": 14,
   "metadata": {},
   "outputs": [
    {
     "data": {
      "text/plain": [
       "[<matplotlib.lines.Line2D at 0x198d30aa8c8>]"
      ]
     },
     "execution_count": 14,
     "metadata": {},
     "output_type": "execute_result"
    },
    {
     "data": {
      "text/plain": [
       "[<matplotlib.lines.Line2D at 0x198d312d708>]"
      ]
     },
     "execution_count": 14,
     "metadata": {},
     "output_type": "execute_result"
    },
    {
     "data": {
      "text/plain": [
       "Text(0, 0.5, 'cost function')"
      ]
     },
     "execution_count": 14,
     "metadata": {},
     "output_type": "execute_result"
    },
    {
     "data": {
      "text/plain": [
       "Text(0.5, 0, 'iterations')"
      ]
     },
     "execution_count": 14,
     "metadata": {},
     "output_type": "execute_result"
    },
    {
     "data": {
      "text/plain": [
       "<matplotlib.legend.Legend at 0x198d312cd08>"
      ]
     },
     "execution_count": 14,
     "metadata": {},
     "output_type": "execute_result"
    },
    {
     "data": {
      "image/png": "[encoded data removed]",
      "text/plain": [
       "<Figure size 360x360 with 1 Axes>"
      ]
     },
     "metadata": {
      "needs_background": "light"
     },
     "output_type": "display_data"
    }
   ],
   "source": [
    "fig, ax = plt.subplots(1, 1, figsize=(5,5))\n",
    "n_iterations=1000\n",
    "ax.plot(range(n_iterations),theta_history[:,0], linestyle='none', marker='o', label ='theta0')\n",
    "ax.plot(range(n_iterations),theta_history[:,1], linestyle='none', marker='o', label ='theta1')\n",
    "ax.set_ylabel('cost function')\n",
    "ax.set_xlabel('iterations')\n",
    "ax.legend()"
   ]
  },
  {
   "cell_type": "code",
   "execution_count": null,
   "metadata": {},
   "outputs": [],
   "source": []
  },
  {
   "cell_type": "code",
   "execution_count": null,
   "metadata": {},
   "outputs": [],
   "source": []
  }
 ],
 "metadata": {
  "kernelspec": {
   "display_name": "Python 3",
   "language": "python",
   "name": "python3"
  },
  "language_info": {
   "codemirror_mode": {
    "name": "ipython",
    "version": 3
   },
   "file_extension": ".py",
   "mimetype": "text/x-python",
   "name": "python",
   "nbconvert_exporter": "python",
   "pygments_lexer": "ipython3",
   "version": "3.7.6"
  },
  "latex_envs": {
   "LaTeX_envs_menu_present": true,
   "autoclose": false,
   "autocomplete": true,
   "bibliofile": "biblio.bib",
   "cite_by": "apalike",
   "current_citInitial": 1,
   "eqLabelWithNumbers": true,
   "eqNumInitial": 1,
   "hotkeys": {
    "equation": "Ctrl-E",
    "itemize": "Ctrl-I"
   },
   "labels_anchors": false,
   "latex_user_defs": false,
   "report_style_numbering": false,
   "user_envs_cfg": false
  },
  "toc": {
   "base_numbering": 1,
   "nav_menu": {},
   "number_sections": true,
   "sideBar": true,
   "skip_h1_title": false,
   "title_cell": "Table of Contents",
   "title_sidebar": "Contents",
   "toc_cell": false,
   "toc_position": {},
   "toc_section_display": true,
   "toc_window_display": false
  },
  "varInspector": {
   "cols": {
    "lenName": 16,
    "lenType": 16,
    "lenVar": 40
   },
   "kernels_config": {
    "python": {
     "delete_cmd_postfix": "",
     "delete_cmd_prefix": "del ",
     "library": "var_list.py",
     "varRefreshCmd": "print(var_dic_list())"
    },
    "r": {
     "delete_cmd_postfix": ") ",
     "delete_cmd_prefix": "rm(",
     "library": "var_list.r",
     "varRefreshCmd": "cat(var_dic_list()) "
    }
   },
   "types_to_exclude": [
    "module",
    "function",
    "builtin_function_or_method",
    "instance",
    "_Feature"
   ],
   "window_display": false
  }
 },
 "nbformat": 4,
 "nbformat_minor": 2
}

{
 "cells": [
  {
   "cell_type": "markdown",
   "metadata": {},
   "source": [
    "# Feature Selection"
   ]
  },
  {
   "cell_type": "markdown",
   "metadata": {},
   "source": [
    "Dans ce notebook, nous allons tester différentes **méthodes de sélection de variables**. En apprentissage supervisé,cette étape cruciale permet d'améliorer les performances des modèles prédictifs, en excluant les variables non significatives ou redondantes.\n",
    "\n",
    "Ces méthodes se déclinent en 3 familles :\n",
    "- **Filter** methods\n",
    "- **Wrapped** methods\n",
    "- **Embedded** methods \n",
    "\n",
    "Nous allons étudier les méthodes les plus largement utilisées en ML. Nous allons appliquer ces méthodes au dataset **Breast Cancer Winconsin** puis comparer les performances des modèles obtenues.\n",
    "\n",
    "Pour rappel, ce dataset contient les informations suivantes (*source Kaggle*):\n",
    "\n",
    "1. ID number\n",
    "2. Diagnosis (M = malignant, B = benign)\n",
    "3. 32 Ten real-valued features are computed for each cell nucleus:\n",
    "\n",
    "       a) radius (mean of distances from center to points on the perimeter)\n",
    "       b) texture (standard deviation of gray-scale values)\n",
    "       c) perimeter\n",
    "       d) area\n",
    "       e) smoothness (local variation in radius lengths)\n",
    "       f) compactness (perimeter^2 / area - 1.0)\n",
    "       g) concavity (severity of concave portions of the contour)\n",
    "       h) concave points (number of concave portions of the contour)\n",
    "       i) symmetry\n",
    "       j) fractal dimension (\"coastline approximation\" - 1)\n",
    "\n",
    "The mean, standard error and \"worst\" or largest (mean of the three largest values) of these features were computed for each image, resulting in 30 features. For instance, field 3 is Mean Radius, field 13 is Radius SE, field 23 is Worst Radius.\n",
    "\n",
    "\n"
   ]
  },
  {
   "cell_type": "markdown",
   "metadata": {},
   "source": [
    "## 1. Chargement et description des données"
   ]
  },
  {
   "cell_type": "markdown",
   "metadata": {},
   "source": [
    "- Charger les données\n",
    "- Afficher les dimensions et les premières lignes du DataFrame"
   ]
  },
  {
   "cell_type": "code",
   "execution_count": null,
   "metadata": {},
   "outputs": [],
   "source": []
  },
  {
   "cell_type": "markdown",
   "metadata": {},
   "source": [
    "## 2. Data Analysis et preprocessing"
   ]
  },
  {
   "cell_type": "markdown",
   "metadata": {},
   "source": [
    "1. Analyser les missing values et les distributions marginales des features"
   ]
  },
  {
   "cell_type": "code",
   "execution_count": null,
   "metadata": {
    "scrolled": true
   },
   "outputs": [],
   "source": []
  },
  {
   "cell_type": "code",
   "execution_count": null,
   "metadata": {},
   "outputs": [],
   "source": []
  },
  {
   "cell_type": "markdown",
   "metadata": {},
   "source": [
    "2. Analyser la matrice de corrélation des features.Noter les corrélations supérieures à 0.9"
   ]
  },
  {
   "cell_type": "code",
   "execution_count": null,
   "metadata": {
    "scrolled": true
   },
   "outputs": [],
   "source": []
  },
  {
   "cell_type": "code",
   "execution_count": null,
   "metadata": {},
   "outputs": [],
   "source": []
  },
  {
   "cell_type": "markdown",
   "metadata": {},
   "source": [
    "3. Analyser les distributions conditionnelles (à la target) des features. \n",
    "\n",
    "**Bonus :** Utiliser la statistique de Kolmogorov-Smirnov (`scipy.stats`) pour comparer les distributions."
   ]
  },
  {
   "cell_type": "code",
   "execution_count": null,
   "metadata": {},
   "outputs": [],
   "source": [
    "\n",
    "\n"
   ]
  },
  {
   "cell_type": "code",
   "execution_count": null,
   "metadata": {},
   "outputs": [],
   "source": [
    "\n"
   ]
  },
  {
   "cell_type": "markdown",
   "metadata": {},
   "source": [
    "On décide de supprimer à ce stade les features : \n",
    "'perimeter_mean','radius_mean','texture_worst','area_worst','perimeter_worst','radius_worst'\n",
    "\n"
   ]
  },
  {
   "cell_type": "code",
   "execution_count": null,
   "metadata": {},
   "outputs": [],
   "source": []
  },
  {
   "cell_type": "markdown",
   "metadata": {},
   "source": [
    "4. Standardiser les données numériques et modifier le format de la Target"
   ]
  },
  {
   "cell_type": "code",
   "execution_count": null,
   "metadata": {},
   "outputs": [],
   "source": []
  },
  {
   "cell_type": "code",
   "execution_count": null,
   "metadata": {},
   "outputs": [],
   "source": []
  },
  {
   "cell_type": "markdown",
   "metadata": {},
   "source": [
    "5. Splitter les données en bases training et test"
   ]
  },
  {
   "cell_type": "code",
   "execution_count": null,
   "metadata": {},
   "outputs": [],
   "source": []
  },
  {
   "cell_type": "markdown",
   "metadata": {},
   "source": [
    "## 3. Feature Selection"
   ]
  },
  {
   "cell_type": "markdown",
   "metadata": {},
   "source": [
    "### 3.1 Filter methods"
   ]
  },
  {
   "cell_type": "markdown",
   "metadata": {},
   "source": [
    "1. Expliquer le principe de ces méthodes. Donner des exemples de méthodes"
   ]
  },
  {
   "attachments": {
    "filter%20image.webp": {
     "image/webp": "[encoded data removed]"
    }
   },
   "cell_type": "markdown",
   "metadata": {},
   "source": [
    "![filter%20image.webp](attachment:filter%20image.webp)\n",
    "\n",
    "Filter methods are generally used as a **data preprocessing step**. The selection of features is **independent of any machine learning algorithm**. Features give rank on the basis of statistical scores which tend to determine the features' correlation with the outcome variable."
   ]
  },
  {
   "cell_type": "markdown",
   "metadata": {},
   "source": [
    "2. On souhaite appliquer la fonction `SelectKBest` de la librairie `sklearn.feature_selection` pour définir un premier subset de features.\n",
    "   Afficher la DocString de cette fonction. \n",
    "   Créer l'instance suivante : `SelectKBest(f_classif, k=10)`\n",
    "   Fitter sur la base de Training\n",
    "   Stocker les 10 Best features dans une liste\n",
    "   \n",
    "   **Bonus** : Analyser la matrice de corrélations et détecter les features fortement corrélées entre elles (seuil fixé à 0.9)\n",
    "   "
   ]
  },
  {
   "cell_type": "code",
   "execution_count": null,
   "metadata": {},
   "outputs": [],
   "source": []
  },
  {
   "cell_type": "markdown",
   "metadata": {},
   "source": [
    "### 3.2 Wrapper methods"
   ]
  },
  {
   "cell_type": "markdown",
   "metadata": {},
   "source": [
    "1. Expliquer le principe de ces méthodes. Donner des exemples de méthodes"
   ]
  },
  {
   "cell_type": "markdown",
   "metadata": {},
   "source": [
    "\n"
   ]
  },
  {
   "cell_type": "markdown",
   "metadata": {},
   "source": [
    "2. On souhaite appliquer la fonction `SequentialFeatureSelector` de la librairie `mlxtend.feature_selection`pour faire de la sélection `Forward`et `Backward` des features avec la Régression Logistique\n",
    "\n",
    "   Afficher la DocString de cette fonction. \n",
    "   Créer les instances suivantes (à adapter selon la méthode Forward ou Backward): \n",
    "           SequentialFeatureSelector(LogisticRegression(), \n",
    "           k_features=10, \n",
    "           forward=, \n",
    "           floating=False, \n",
    "           verbose=2,\n",
    "           scoring='accuracy',\n",
    "           cv=0)\n",
    "   Fitter sur la base de Training\n",
    "   Stocker les Best Features dans des listes\n",
    "   "
   ]
  },
  {
   "cell_type": "code",
   "execution_count": null,
   "metadata": {},
   "outputs": [],
   "source": []
  },
  {
   "cell_type": "markdown",
   "metadata": {},
   "source": [
    "3. On souhaite appliquer la fonction `RFE` de la librairie `sklearn.feature_selection` pour faire de la `Recursive Feature Elimination`de features avec la Régression Logistique\n",
    "\n",
    "   Afficher la DocString de cette fonction. \n",
    "   Créer l'instance suivante: \n",
    "           RFE(estimator=LogisticRegression(), n_features_to_select=10, step=1)\n",
    "   Fitter sur la base de Training\n",
    "   Stocker les Best Features dans une liste\n",
    "   \n",
    "   **Bonus** : Relancer la fonction RFE avec Cross_Validation (3 Folds)\n"
   ]
  },
  {
   "cell_type": "code",
   "execution_count": null,
   "metadata": {},
   "outputs": [],
   "source": []
  },
  {
   "cell_type": "markdown",
   "metadata": {},
   "source": [
    "### 3.2 Embedded methods"
   ]
  },
  {
   "cell_type": "markdown",
   "metadata": {},
   "source": [
    "1. Expliquer le principe de ces méthodes. Donner des exemples de méthodes"
   ]
  },
  {
   "cell_type": "code",
   "execution_count": null,
   "metadata": {},
   "outputs": [],
   "source": []
  },
  {
   "cell_type": "markdown",
   "metadata": {},
   "source": [
    " On souhaite appliquer la fonction `SelectFromModel` de la librairie `mlxtend.feature_selection` pour sélectionner les features les plus importantes avec le ExtraTreesClassifier\n",
    "\n",
    "   Afficher la DocString de cette fonction. \n",
    "   Créer l'instance suivante :\n",
    "   SelectFromModel(ExtraTreesClassifier(n_estimators=50), prefit=True)\n",
    "          \n",
    "   Fitter sur la base de Training\n",
    "   Stocker les Best Features dans une liste\n"
   ]
  },
  {
   "cell_type": "markdown",
   "metadata": {},
   "source": [
    "## 4. Modeling et Validation"
   ]
  },
  {
   "cell_type": "markdown",
   "metadata": {},
   "source": [
    "Appliquer la régression Logistique et Evaluer les performances des modèles (Accuracy, Recall, Precision, ROC, AUC) selon les scenarii suivants :\n",
    "\n",
    "1. Sur l'ensemble des features (sans selection)\n",
    "2. Sur les subsets de features définis aux différentes étapes\n",
    "2. Avec régularisation LASSO (sur l'ensemble des features)"
   ]
  }
 ],
 "metadata": {
  "kernelspec": {
   "display_name": "Python 3",
   "language": "python",
   "name": "python3"
  },
  "language_info": {
   "codemirror_mode": {
    "name": "ipython",
    "version": 3
   },
   "file_extension": ".py",
   "mimetype": "text/x-python",
   "name": "python",
   "nbconvert_exporter": "python",
   "pygments_lexer": "ipython3",
   "version": "3.7.6"
  },
  "latex_envs": {
   "LaTeX_envs_menu_present": true,
   "autoclose": false,
   "autocomplete": true,
   "bibliofile": "biblio.bib",
   "cite_by": "apalike",
   "current_citInitial": 1,
   "eqLabelWithNumbers": true,
   "eqNumInitial": 1,
   "hotkeys": {
    "equation": "Ctrl-E",
    "itemize": "Ctrl-I"
   },
   "labels_anchors": false,
   "latex_user_defs": false,
   "report_style_numbering": false,
   "user_envs_cfg": false
  },
  "toc": {
   "base_numbering": 1,
   "nav_menu": {},
   "number_sections": true,
   "sideBar": true,
   "skip_h1_title": false,
   "title_cell": "Table of Contents",
   "title_sidebar": "Contents",
   "toc_cell": false,
   "toc_position": {},
   "toc_section_display": true,
   "toc_window_display": false
  },
  "varInspector": {
   "cols": {
    "lenName": 16,
    "lenType": 16,
    "lenVar": 40
   },
   "kernels_config": {
    "python": {
     "delete_cmd_postfix": "",
     "delete_cmd_prefix": "del ",
     "library": "var_list.py",
     "varRefreshCmd": "print(var_dic_list())"
    },
    "r": {
     "delete_cmd_postfix": ") ",
     "delete_cmd_prefix": "rm(",
     "library": "var_list.r",
     "varRefreshCmd": "cat(var_dic_list()) "
    }
   },
   "types_to_exclude": [
    "module",
    "function",
    "builtin_function_or_method",
    "instance",
    "_Feature"
   ],
   "window_display": false
  }
 },
 "nbformat": 4,
 "nbformat_minor": 2
}

{
 "cells": [
  {
   "cell_type": "markdown",
   "metadata": {},
   "source": [
    "# Notions de probabilités - Partie I"
   ]
  },
  {
   "cell_type": "markdown",
   "metadata": {},
   "source": [
    "Les objectifs de ce notebook sont de :\n",
    "- Définir les notions de bases des probabilités\n",
    "- Etudier la notion de \"**SET**\" en Python et les méthodes associées\n",
    "- Définir le diagramme de Venn et calculer des probabilités\n",
    "\n",
    "Pour ce faire,nous vous proposons de suivre le MOOC \"*EDX - Probability and Statistics in Data Science using Python*\" : https://courses.edx.org/courses/course-v1:UCSanDiegoX+DSE210x+3T2019a/course/ et plus particulièrement les **topics 1** (\"***Introduction to probabilities and statistics***\") et 2 (\"***Sets***\")\n",
    "\n",
    "**POUR CHAQUE TOPIC**,nous vous laisserons :\n",
    "1. Regarder les vidéos puis répondre aux questions mises en dessous de chaque vidéo \n",
    "2. Répondre aux questions de __**CE NOTEBOOK**__ pour vérifier votre compréhension des notions abordées dans les vidéos\n",
    "3. A la fin de chaque topic, compléter le notebook de la partie \"***Programming Assignment***\" \n"
   ]
  },
  {
   "cell_type": "markdown",
   "metadata": {},
   "source": [
    "### 1. Définitions\n",
    "***(Durée moyenne : 1h)***"
   ]
  },
  {
   "cell_type": "markdown",
   "metadata": {},
   "source": [
    "\n",
    "1. Définir la théorie des probabilités \n",
    "2. Quelle est la différence entre les probabilités et les statistiques?\n",
    "\n",
    "\n",
    "3. Définir une expérience aléatoire. Donner un exemple\n",
    "4. Définir un univers (au sens probabiliste). Donner un exemple\n",
    "5. Qu'est qu'un évènement? Quelle est sa notation?\n",
    "6. Donner un exemple d'évènement\n",
    "7. Quelle structure de données en Python permet de définir des évènements?\n",
    "8. Définir des évènements incompatibles. Donner un exemple\n",
    "9. Définir des évènements indépendants. Donner un exemple\n",
    "\n",
    "\n",
    "10. Définir un diagramme de Venn. Donner un exemple\n",
    "11. Qu'est-ce qu'une probabilité? Quel est son ensemble de définition? Que dire de la somme totale des probabilités des éléments élémentaires d'un évènement?\n",
    "\n",
    "\n",
    "12. Définir le paradoxe de Russell\n"
   ]
  },
  {
   "cell_type": "markdown",
   "metadata": {},
   "source": [
    "1. La théorie des probabilités en mathématiques est l\\'étude des phénomènes caractérisés par le hasard et l'incertitude. Elle forme avec la statistique les deux sciences du hasard qui sont partie intégrante des mathématiques. Les débuts de l'étude des probabilités correspondent aux premières observations du hasard dans les jeux ou dans les phénomènes climatiques par exemple. "
   ]
  },
  {
   "cell_type": "markdown",
   "metadata": {},
   "source": [
    "2. Avec les probabilités on s'intéresse aux issues théoriques d'une expérience régie par de l'aléatoire, aléatoire que l'on modélise par des lois adéquates, des lois qu'on estime correspondre au modèle réel. Les statistiques se contentent d'étudier des issues empiriques (= pratiques, concrètes), c'est à dire qu'on va analyser des séries de chiffres qui sont finies. Le lien entre les 2 c'est de voir en quoi la mesure statistique se rapproche du modèle probabiliste qu'on avait créé, en particulier lorsque la taille de la série de chiffres devient très grande."
   ]
  },
  {
   "cell_type": "markdown",
   "metadata": {},
   "source": [
    "3. Une expérience est dite «aléatoire» lorsqu’elle vérifie trois conditions : \n",
    "• on connaît tous les résultats possibles; \n",
    "• le résultat n’est pas prévisible; \n",
    "• on peut reproduire plusieurs fois l’expérience dans les mêmes conditions. \n",
    "par exemple: lancer un dé non truqué"
   ]
  },
  {
   "cell_type": "markdown",
   "metadata": {},
   "source": [
    "4. En théorie des probabilités, un univers, souvent noté Ω , U   ou S  , est l'ensemble de toutes les issues (résultats) qui peuvent être obtenues au cours d'une expérience aléatoire. \n",
    "Quand lance un dé, son univers est {1,2, 3, 4, 5, 6}."
   ]
  },
  {
   "cell_type": "markdown",
   "metadata": {},
   "source": [
    "5. Soient Ω l'univers d'une expérience aléatoire, A  une tribu sur Ω , et ( Ω , A )  l'espace probabilisable ainsi constitué. On appelle événement toute partie de Ω  qui appartient à la tribu A . Si l'événement est constitué d'un seul élément, on parle alors d'un événement élémentaire. "
   ]
  },
  {
   "cell_type": "markdown",
   "metadata": {},
   "source": [
    "6. Le resultat qu'on lance un dé, si on a 2, 2 est un évènement de l'univers {1,2,3,4,5,6}"
   ]
  },
  {
   "cell_type": "markdown",
   "metadata": {},
   "source": [
    "7. set = {1,2,3,4,5,6}"
   ]
  },
  {
   "cell_type": "markdown",
   "metadata": {},
   "source": [
    "8. Quand deux événements ne peuvent se produire tous deux pendant la même expérience , on dit qu'ils sont incompatibles ou disjoints. \n",
    "Deux événements A et B sont incompatibles quand leur intersection est vide. A ∩ B=∅\n",
    "Dans le cas de deux événements incompatibles, on a P(A∩B)=0 par conséquent P(A∪B)=P(A)+P(B)"
   ]
  },
  {
   "cell_type": "markdown",
   "metadata": {},
   "source": [
    "9. Deux événements A et B sont dits indépendants (par rapport à P) si : \n",
    "P(A∩B) = P(A)P(B)"
   ]
  },
  {
   "cell_type": "markdown",
   "metadata": {},
   "source": [
    "10. Un diagramme de Venn (également appelé diagramme logique) est un diagramme qui montre toutes les relations logiques possibles dans une collection finie de différents ensembles. Les diagrammes de Venn ont été conçus autour de 1880 par John Venn. Ils sont utilisés pour enseigner la théorie des ensembles élémentaires, ainsi que pour illustrer des relations simples en probabilité, logique, statistiques, linguistique et en informatique. "
   ]
  },
  {
   "cell_type": "markdown",
   "metadata": {},
   "source": [
    "11. Probabilité= fonction permettant de «mesurer» la chance de réalisation d’un évènement de P(Ω)(ou plus généralement d’une tribu A)\n",
    "Définition: Soit (Ω,A) un espace probabilisable. Une probabilité sur (Ω,A) est une application P:A = [0, 1]\n",
    "La somme des probabilités des branches issues d'un même nœud est 1. La probabilité de l'événement correspondant à un trajet est le produit des probabilités des différentes branches composant ce trajet. "
   ]
  },
  {
   "cell_type": "markdown",
   "metadata": {},
   "source": [
    "12.  On peut formuler le paradoxe ainsi : l'ensemble des ensembles n'appartenant pas à eux-mêmes appartient-il à lui-même ? Si on répond oui, alors, comme par définition les membres de cet ensemble n'appartiennent pas à eux-mêmes, il n'appartient pas à lui-même : contradiction. Mais si on répond non, alors il a la propriété requise pour appartenir à lui-même : contradiction à nouveau. "
   ]
  },
  {
   "cell_type": "markdown",
   "metadata": {},
   "source": [
    "### 2. Sets\n",
    "***(Durée moyenne : 30 min)***\n"
   ]
  },
  {
   "cell_type": "markdown",
   "metadata": {},
   "source": [
    "#### Codage Python\n",
    "\n",
    "1. Définir un set de valeurs numériques et un set de chaines de caractères à partir de listes et de tuples. Définir le cardinal(nombre d'éléments) de chaque Set\n",
    "2. Exécuter le code suivant. Que remarquez-vous?\n",
    "\n",
    "``\n",
    " Set1 = set([1,2,3,2])\n",
    " Set1[0] = 4\n",
    " Set1[0:2]\n",
    "``\n",
    "3. Citer des méthodes permettent d'ajouter un ou plusieurs éléments dans un Set?\n",
    "4. Citer des méthodes permettent de supprimer un ou plusieurs éléments dans un Set? Tester ces deux méthodes selon que l'élément à supprimer est présent ou non dans le Set de départ\n",
    "5. Trier les élements d'un Set (après cette opération on a en sortie un Set)\n",
    "6. Définir l'appartenance (ou non) d'un élément à un Set\n",
    "7. Définir l'inclusion d'un Set dans un autre\n",
    "8. Définir l'union, l'intersection,la différence et la différence symétrique de deux Sets\n",
    "9. Définir les issues possibles d'un lancer de deux dés. On additionne les chiffres des 2 dés. Calculer le cardinal des évènements suivants:\n",
    "   A :{\"Obtenir 7\"}, B:{\"Obtenir un nombre pair\"}, C :{\"Obtenir un nombre supérieur ou égal à 10 ou pair\"}, C :{\"Obtenir un nombre impair et inférieur à 8\"}\n"
   ]
  },
  {
   "cell_type": "code",
   "execution_count": 131,
   "metadata": {},
   "outputs": [
    {
     "name": "stdout",
     "output_type": "stream",
     "text": [
      "6\n",
      "2\n"
     ]
    }
   ],
   "source": [
    "#1.\n",
    "set_num = {1,2,3,4,5,6}\n",
    "set_char = set(['bonjour','coucou'])\n",
    "print(len(set_num))\n",
    "print(len(set_char))"
   ]
  },
  {
   "cell_type": "code",
   "execution_count": 130,
   "metadata": {},
   "outputs": [
    {
     "ename": "TypeError",
     "evalue": "'set' object does not support item assignment",
     "output_type": "error",
     "traceback": [
      "\u001b[1;31m---------------------------------------------------------------------------\u001b[0m",
      "\u001b[1;31mTypeError\u001b[0m                                 Traceback (most recent call last)",
      "\u001b[1;32m<ipython-input-130-2c72a346fdaf>\u001b[0m in \u001b[0;36m<module>\u001b[1;34m\u001b[0m\n\u001b[0;32m      1\u001b[0m \u001b[1;31m#2.1\u001b[0m\u001b[1;33m\u001b[0m\u001b[1;33m\u001b[0m\u001b[1;33m\u001b[0m\u001b[0m\n\u001b[0;32m      2\u001b[0m \u001b[0mSet1\u001b[0m \u001b[1;33m=\u001b[0m \u001b[0mset\u001b[0m\u001b[1;33m(\u001b[0m\u001b[1;33m[\u001b[0m\u001b[1;36m1\u001b[0m\u001b[1;33m,\u001b[0m\u001b[1;36m2\u001b[0m\u001b[1;33m,\u001b[0m\u001b[1;36m3\u001b[0m\u001b[1;33m,\u001b[0m\u001b[1;36m2\u001b[0m\u001b[1;33m]\u001b[0m\u001b[1;33m)\u001b[0m\u001b[1;33m\u001b[0m\u001b[1;33m\u001b[0m\u001b[0m\n\u001b[1;32m----> 3\u001b[1;33m \u001b[0mSet1\u001b[0m\u001b[1;33m[\u001b[0m\u001b[1;36m0\u001b[0m\u001b[1;33m]\u001b[0m \u001b[1;33m=\u001b[0m \u001b[1;36m4\u001b[0m \u001b[1;31m#un set est non modifiable\u001b[0m\u001b[1;33m\u001b[0m\u001b[1;33m\u001b[0m\u001b[0m\n\u001b[0m",
      "\u001b[1;31mTypeError\u001b[0m: 'set' object does not support item assignment"
     ]
    }
   ],
   "source": [
    "#2.1\n",
    "Set1 = set([1,2,3,2])\n",
    "Set1[0] = 4 #un set est non modifiable"
   ]
  },
  {
   "cell_type": "code",
   "execution_count": 20,
   "metadata": {},
   "outputs": [
    {
     "ename": "TypeError",
     "evalue": "'set' object is not subscriptable",
     "output_type": "error",
     "traceback": [
      "\u001b[1;31m---------------------------------------------------------------------------\u001b[0m",
      "\u001b[1;31mTypeError\u001b[0m                                 Traceback (most recent call last)",
      "\u001b[1;32m<ipython-input-20-195eaa466c9a>\u001b[0m in \u001b[0;36m<module>\u001b[1;34m\u001b[0m\n\u001b[1;32m----> 1\u001b[1;33m \u001b[0mSet1\u001b[0m\u001b[1;33m[\u001b[0m\u001b[1;36m0\u001b[0m\u001b[1;33m:\u001b[0m\u001b[1;36m2\u001b[0m\u001b[1;33m]\u001b[0m \u001b[1;31m# On ne peut pas indexé les éléments dans un set\u001b[0m\u001b[1;33m\u001b[0m\u001b[1;33m\u001b[0m\u001b[0m\n\u001b[0m",
      "\u001b[1;31mTypeError\u001b[0m: 'set' object is not subscriptable"
     ]
    }
   ],
   "source": [
    "#2.2\n",
    "Set1[0:2] # On ne peut pas indexé les éléments dans un set"
   ]
  },
  {
   "cell_type": "code",
   "execution_count": 132,
   "metadata": {},
   "outputs": [
    {
     "name": "stdout",
     "output_type": "stream",
     "text": [
      "{1, 2, 3, 5}\n",
      "{1, 2, 3, 5, 7, 8}\n"
     ]
    }
   ],
   "source": [
    "#3.\n",
    "Set1.add(5)\n",
    "print(Set1)\n",
    "\n",
    "Set1.update([7,8]) #rajouter plusieurs éléments dans le set1\n",
    "print(Set1)"
   ]
  },
  {
   "cell_type": "code",
   "execution_count": 133,
   "metadata": {},
   "outputs": [
    {
     "ename": "KeyError",
     "evalue": "{2, 5}",
     "output_type": "error",
     "traceback": [
      "\u001b[1;31m---------------------------------------------------------------------------\u001b[0m",
      "\u001b[1;31mKeyError\u001b[0m                                  Traceback (most recent call last)",
      "\u001b[1;32m<ipython-input-133-88333d80cc6e>\u001b[0m in \u001b[0;36m<module>\u001b[1;34m\u001b[0m\n\u001b[0;32m      1\u001b[0m \u001b[1;31m#4.1\u001b[0m\u001b[1;33m\u001b[0m\u001b[1;33m\u001b[0m\u001b[1;33m\u001b[0m\u001b[0m\n\u001b[1;32m----> 2\u001b[1;33m \u001b[0mSet1\u001b[0m\u001b[1;33m.\u001b[0m\u001b[0mremove\u001b[0m\u001b[1;33m(\u001b[0m\u001b[1;33m{\u001b[0m\u001b[1;36m2\u001b[0m\u001b[1;33m,\u001b[0m\u001b[1;36m5\u001b[0m\u001b[1;33m}\u001b[0m\u001b[1;33m)\u001b[0m \u001b[1;31m#Supprimer un élément présent dans le set, sinon l'élément n'est pas présent il affiche une erreur\u001b[0m\u001b[1;33m\u001b[0m\u001b[1;33m\u001b[0m\u001b[0m\n\u001b[0m\u001b[0;32m      3\u001b[0m \u001b[0mprint\u001b[0m\u001b[1;33m(\u001b[0m\u001b[0mSet1\u001b[0m\u001b[1;33m)\u001b[0m\u001b[1;33m\u001b[0m\u001b[1;33m\u001b[0m\u001b[0m\n",
      "\u001b[1;31mKeyError\u001b[0m: {2, 5}"
     ]
    }
   ],
   "source": [
    "#4.1\n",
    "Set1.remove({2,5}) #Supprimer un élément présent dans le set, sinon l'élément n'est pas présent il affiche une erreur \n",
    "print(Set1)"
   ]
  },
  {
   "cell_type": "code",
   "execution_count": 126,
   "metadata": {},
   "outputs": [
    {
     "name": "stdout",
     "output_type": "stream",
     "text": [
      "{5, 7, 8}\n",
      "{5, 7, 8}\n",
      "{5, 7, 8}\n"
     ]
    }
   ],
   "source": [
    "#4.2\n",
    "print(Set1)\n",
    "\n",
    "Set1.discard(3) #Supprimer un élément dans le Set, il est présent ou pas, il n'affichera pas d'erreur\n",
    "print(Set1)\n",
    "\n",
    "Set1.discard(3)\n",
    "print(Set1)"
   ]
  },
  {
   "cell_type": "code",
   "execution_count": 39,
   "metadata": {},
   "outputs": [
    {
     "name": "stdout",
     "output_type": "stream",
     "text": [
      "{1, 2}\n",
      "{2}\n"
     ]
    }
   ],
   "source": [
    "print(Set1)\n",
    "\n",
    "Set1.pop() #Supprimer aléatoire d'un élément dans le Set\n",
    "print(Set1)"
   ]
  },
  {
   "cell_type": "code",
   "execution_count": 50,
   "metadata": {},
   "outputs": [
    {
     "data": {
      "text/plain": [
       "[2, 3, 4, 5, 8, 18, 45, 66]"
      ]
     },
     "execution_count": 50,
     "metadata": {},
     "output_type": "execute_result"
    }
   ],
   "source": [
    "#5.\n",
    "set2 = set((5,4,3,8,18,2,66,45))\n",
    "sorted(set2)\n"
   ]
  },
  {
   "cell_type": "code",
   "execution_count": 57,
   "metadata": {},
   "outputs": [
    {
     "name": "stdout",
     "output_type": "stream",
     "text": [
      "True\n",
      "False\n"
     ]
    }
   ],
   "source": [
    "#6. \n",
    "print( 2 in set2)\n",
    "print( 1 in set2)"
   ]
  },
  {
   "cell_type": "code",
   "execution_count": 56,
   "metadata": {},
   "outputs": [
    {
     "name": "stdout",
     "output_type": "stream",
     "text": [
      "True\n",
      "False\n"
     ]
    }
   ],
   "source": [
    "#7. \n",
    "print( 1 not in set2)\n",
    "print(2 not in set2)"
   ]
  },
  {
   "cell_type": "code",
   "execution_count": 62,
   "metadata": {},
   "outputs": [
    {
     "data": {
      "text/plain": [
       "{2, 4, 5, 6, 7, 8}"
      ]
     },
     "execution_count": 62,
     "metadata": {},
     "output_type": "execute_result"
    }
   ],
   "source": [
    "#8.1\n",
    "A = {2, 4, 5, 6}\n",
    "B = {4, 6, 7, 8}\n",
    "A.union(B) #Union de 2 series\n"
   ]
  },
  {
   "cell_type": "code",
   "execution_count": 63,
   "metadata": {},
   "outputs": [
    {
     "data": {
      "text/plain": [
       "{4, 6}"
      ]
     },
     "execution_count": 63,
     "metadata": {},
     "output_type": "execute_result"
    }
   ],
   "source": [
    "#8.2\n",
    "A.intersection(B) #L'intersection de 2 series"
   ]
  },
  {
   "cell_type": "code",
   "execution_count": 65,
   "metadata": {},
   "outputs": [
    {
     "data": {
      "text/plain": [
       "{2, 5}"
      ]
     },
     "execution_count": 65,
     "metadata": {},
     "output_type": "execute_result"
    }
   ],
   "source": [
    "#8.3\n",
    "A-B  #La différence de 2 series"
   ]
  },
  {
   "cell_type": "code",
   "execution_count": 66,
   "metadata": {},
   "outputs": [
    {
     "data": {
      "text/plain": [
       "{2, 5, 7, 8}"
      ]
     },
     "execution_count": 66,
     "metadata": {},
     "output_type": "execute_result"
    }
   ],
   "source": [
    "#8.4\n",
    "A.symmetric_difference(B) #L'ensemble qui sont non intersection"
   ]
  },
  {
   "cell_type": "code",
   "execution_count": 155,
   "metadata": {},
   "outputs": [
    {
     "name": "stdout",
     "output_type": "stream",
     "text": [
      "{(1, 3), (6, 6), (5, 6), (2, 1), (6, 2), (1, 6), (5, 1), (2, 5), (1, 2), (3, 3), (5, 5), (4, 4), (6, 3), (1, 5), (3, 6), (2, 2), (4, 1), (1, 1), (6, 4), (3, 2), (2, 6), (5, 4), (4, 5), (5, 2), (1, 4), (2, 3), (4, 2), (6, 5), (3, 5), (5, 3), (4, 6), (6, 1), (3, 1), (4, 3), (3, 4), (2, 4)}\n",
      "6\n",
      "18\n",
      "14\n",
      "32\n",
      "6\n",
      "Obtenir 7 est 6\n",
      "Obtenir un nombre pair est 18\n",
      "Obtenir un nombre supérieur ou égal à 10 ou pair est 14\n",
      "Obtenir un nombre impair et inférieur à 8 est 32\n"
     ]
    }
   ],
   "source": [
    "#9\n",
    "import itertools\n",
    "de1 = {1, 2, 3, 4, 5, 6}\n",
    "de2 = {1, 2, 3, 4, 5, 6}\n",
    "tirs = set(itertools.product(de1,de2))\n",
    "print(tirs)\n",
    "omega = [1 for i,j in tirs if i + j == 7]\n",
    "print(len(omega))\n",
    "\n",
    "omega = [1 for i,j in tirs if (i + j) %2 ==0]\n",
    "print(len(omega))\n",
    "\n",
    "omega = [1 for i,j in tirs if (i+j >= 10) | (i + j) %2 ==0 ]\n",
    "print(len(omega))\n",
    "\n",
    "omega = [1 for i,j in tirs if (i+j < 10) | (i + j) %2 !=0 ]\n",
    "print(len(omega))\n",
    "\n",
    "\n",
    "# Cardinal d'obtenir un nombre 7 dans la somme de résultat lancé de 2 dés\n",
    "produit =[i+y for i,y in product(de1, de2)]\n",
    "print(produit.count(7))\n",
    "#A :{\"Obtenir 7\"}\n",
    "productto7 =0\n",
    "for i in de1:\n",
    "    for j in de2:\n",
    "        if i+j == 7:\n",
    "            productto7 += 1\n",
    "print(\"Obtenir 7 est \" + str(productto7))\n",
    "            \n",
    "#B:{\"Obtenir un nombre pair\"}\n",
    "pair =0\n",
    "for i in de1:\n",
    "    for j in de2:\n",
    "        if (i + j) %2 == 0:\n",
    "            pair += 1\n",
    "print(\"Obtenir un nombre pair est \" + str(pair))\n",
    "\n",
    "#C :{\"Obtenir un nombre supérieur ou égal à 10 ou pair\"}\n",
    "sup10orpair =0\n",
    "for i in de1:\n",
    "    for j in de2:\n",
    "        if (i+j >= 10) | (i + j) %2 ==0:\n",
    "            sup10orpair += 1\n",
    "print(\"Obtenir un nombre supérieur ou égal à 10 ou pair est \" + str(sup10orpair))\n",
    "\n",
    "#D :{\"Obtenir un nombre impair et inférieur à 8\"}            \n",
    "impouinf = 0\n",
    "for i in de1:\n",
    "    for j in de2:\n",
    "        if (i+j < 10) | (i + j) %2 !=0:\n",
    "            impouinf += 1\n",
    "print(\"Obtenir un nombre impair et inférieur à 8 est \" + str(impouinf))\n"
   ]
  },
  {
   "cell_type": "markdown",
   "metadata": {},
   "source": [
    "### 3. Diagramme de Venn et calcul de probabilités\n",
    "***(Durée moyenne : 30 à 45 min)***"
   ]
  },
  {
   "cell_type": "markdown",
   "metadata": {},
   "source": [
    "1. Pour répondre à une problèmatique de fidélisation d'un service Marketing, la promo data IA qui compte 60 apprenants décide de travailler sur 3 techniques de Machine Learning : \"SVM\", \"KMeans\",\"RandomForest\". Parmi les apprenants,\n",
    " -  17 choisissent de tester les SVM\n",
    " -  34 choisissent de tester les KMeans \n",
    " -  35 choisissent de tester les Random Forest\n",
    " -   8 choisissent de tester les SVM et les KMeans\n",
    " -   2 choisissent de tester les SVM et les Random forest\n",
    " -  10 décident de tester les KMeans et les Random Forest\n",
    " -   5 décident de tester les 3 types de modèles\n",
    "\n",
    " \n"
   ]
  },
  {
   "cell_type": "code",
   "execution_count": 108,
   "metadata": {},
   "outputs": [],
   "source": [
    "import matplotlib.pyplot as plt\n",
    "from matplotlib_venn import venn3"
   ]
  },
  {
   "cell_type": "markdown",
   "metadata": {},
   "source": [
    "1.1 Construire le diagramme de Venn de cette situation"
   ]
  },
  {
   "cell_type": "code",
   "execution_count": 135,
   "metadata": {},
   "outputs": [
    {
     "data": {
      "text/plain": [
       "<matplotlib_venn._common.VennDiagram at 0x190f51b5408>"
      ]
     },
     "execution_count": 135,
     "metadata": {},
     "output_type": "execute_result"
    },
    {
     "data": {
      "image/png": "[encoded data removed]",
      "text/plain": [
       "<Figure size 432x288 with 1 Axes>"
      ]
     },
     "metadata": {},
     "output_type": "display_data"
    }
   ],
   "source": [
    "#v=venn3(subsets = (17, 34, 8,35, 2,10,5), set_labels = ('Groupe SVM', 'Groupe KMeans', 'Groupe RandomForest'))\n",
    "#plt.show()\n",
    "\n",
    "\n",
    "#17 choisissent de tester les SVM\n",
    "#34 choisissent de tester les KMeans \n",
    "#35 choisissent de tester les Random Forest\n",
    "#8 choisissent de tester les SVM et les KMeans\n",
    "#2 choisissent de tester les SVM et les Random forest\n",
    "#10 décident de tester les KMeans et les Random Forest\n",
    "#5 décident de tester les 3 types de modèles\n",
    "\n",
    "allAi = 60\n",
    "Abc = 2 # Contained in group SVM, but not KMeans but not Random Fores \n",
    "aBc = 11  # Contained in group KMeans, but not SVM, but not Random Fores\n",
    "ABc =  8   # Contained in both group SVM and KMeans but not Random Fores\n",
    "AbC =  2 #Contained in group SVM and Random Fores, but not KMeans \n",
    "abC = 18 # Contained in group Random Fores, but not SVM but not KMeans\n",
    "aBC = 10 # Contained in group Random Fores and KMeans but not SVM\n",
    "ABC = 5 # contained in all groups\n",
    "\n",
    "venn3(subsets = (Abc, aBc, ABc, abC, AbC, aBC, ABC), set_labels = ('SVM', 'K-means','Random Forest'))"
   ]
  },
  {
   "cell_type": "markdown",
   "metadata": {},
   "source": [
    " 1.2 Si l'on croise un apprenant dans les locaux de MS, quelle est la probabilité qu'il travaille sur les SVM?"
   ]
  },
  {
   "cell_type": "markdown",
   "metadata": {},
   "source": [
    "17/60"
   ]
  },
  {
   "cell_type": "code",
   "execution_count": null,
   "metadata": {},
   "outputs": [],
   "source": []
  },
  {
   "cell_type": "markdown",
   "metadata": {},
   "source": [
    " 1.3 Si l'on croise un apprenant dans les locaux de MS, quelle est la probabilité qu'il ne travaille sur aucune des 3 méthodes?"
   ]
  },
  {
   "cell_type": "markdown",
   "metadata": {},
   "source": [
    "1-(P(SVM)+P(KM)+P(RF)-P(SVM ∩ KM)-P(SVM ∩ RF)-P(KM ∩ FR) + P(SVM ∩ KM ∩ RF))\n",
    "\n",
    "= 1-(17+34+35-8-5-2-5-10-5+5)/60\n",
    " \n",
    "= 4/60"
   ]
  },
  {
   "cell_type": "code",
   "execution_count": 138,
   "metadata": {},
   "outputs": [
    {
     "data": {
      "text/plain": [
       "4"
      ]
     },
     "execution_count": 138,
     "metadata": {},
     "output_type": "execute_result"
    }
   ],
   "source": [
    "60-sum([Abc,aBc,ABc,AbC,abC,aBC,ABC])"
   ]
  },
  {
   "cell_type": "markdown",
   "metadata": {},
   "source": [
    " 1.4 On croise un apprenant qui travaille sur les KMeans, quelle est la probabilité pour qu'il travaille aussi sur les Random Forest?"
   ]
  },
  {
   "cell_type": "markdown",
   "metadata": {},
   "source": [
    "P(KM) ∩ P(RF)  = Pkm(RF) * P(KM)\n",
    "\n",
    "Pkm(RF) = P(KM) ∩ P(RF) / P(KM)\n",
    "\n",
    "Pkm(RF) = (10/60+5/60) / (34/60)\n",
    "\n",
    "Pkm(RF) = 15/34"
   ]
  },
  {
   "cell_type": "code",
   "execution_count": 140,
   "metadata": {},
   "outputs": [
    {
     "name": "stdout",
     "output_type": "stream",
     "text": [
      "0.4411764705882353\n"
     ]
    }
   ],
   "source": [
    "Pkm = 10/60 + 5/60\n",
    "PrfRF = 34/60\n",
    "print(Pkm/PrfRF)"
   ]
  },
  {
   "cell_type": "markdown",
   "metadata": {},
   "source": [
    "2. Supposons que les faces d'un dé sont truquées de telle manière que les numéros impairs ont chacun la même chance d'apparaître, chance qui est deux fois plus grande que pour chacun des numéros pairs. \n",
    "\n",
    "   On jette le dé. Quelle est la probabilité d'obtenir un nombre supérieur ou égal à 4 ?"
   ]
  },
  {
   "cell_type": "markdown",
   "metadata": {},
   "source": [
    "P(impair) = 2 * P(pair)  = 1*2 / (3 + 2 * 3) =2/9\n",
    "\n",
    "P(pair) = 1/9\n",
    "\n",
    "P(supegal4) = P(4)+P(5)+P(6)\n",
    "            \n",
    "            = 2 * 1/9 + 2/9\n",
    "            \n",
    "            = 5/9"
   ]
  }
 ],
 "metadata": {
  "kernelspec": {
   "display_name": "Python 3",
   "language": "python",
   "name": "python3"
  },
  "language_info": {
   "codemirror_mode": {
    "name": "ipython",
    "version": 3
   },
   "file_extension": ".py",
   "mimetype": "text/x-python",
   "name": "python",
   "nbconvert_exporter": "python",
   "pygments_lexer": "ipython3",
   "version": "3.7.4"
  }
 },
 "nbformat": 4,
 "nbformat_minor": 2
}
